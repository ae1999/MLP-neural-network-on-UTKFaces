{
 "cells": [
  {
   "cell_type": "code",
   "execution_count": 1,
   "id": "hazardous-innocent",
   "metadata": {},
   "outputs": [],
   "source": [
    "import sys\n",
    "import numpy as np"
   ]
  },
  {
   "cell_type": "code",
   "execution_count": 2,
   "id": "universal-toddler",
   "metadata": {},
   "outputs": [],
   "source": [
    "def convolve2D(image, kernel, padding = 0, strides = 1, bias = 0):\n",
    "    xKernShape = kernel.shape[0]\n",
    "    yKernShape = kernel.shape[1]\n",
    "    xImgShape = image.shape[0]\n",
    "    yImgShape = image.shape[0]\n",
    "    xOutput = int(((xImgShape - xKernShape + 2 * padding) / strides) + 1)\n",
    "    yOutput = int(((yImgShape - yKernShape + 2 * padding) / strides) + 1)\n",
    "    output = []#np.zeros((xOutput, yOutput))\n",
    "    if padding != 0:\n",
    "        imagePadded = np.zeros((image.shape[0] + padding*2, image.shape[1] + padding*2))\n",
    "        imagePadded[int(padding):int(-1 * padding), int(padding):int(-1 * padding)] = image\n",
    "    else:\n",
    "        imagePadded = image\n",
    "    for y in range(0, imagePadded.shape[0], strides):\n",
    "        if y > imagePadded.shape[1] - yKernShape:\n",
    "            break\n",
    "        temp = []\n",
    "        for x in range(0, imagePadded.shape[1], strides):\n",
    "            if x > imagePadded.shape[0] - xKernShape:\n",
    "                break\n",
    "            temp.append((kernel * imagePadded[y: y + xKernShape, x: x + yKernShape]).sum() + bias)\n",
    "        output.append(temp)\n",
    "    return output\n",
    "\n",
    "def MAXPOOL2D(image, pooling_size, padding = 0, strides = 1, bias = 0):\n",
    "    image = np.array(image)\n",
    "    xKernShape = pooling_size\n",
    "    yKernShape = pooling_size\n",
    "    xImgShape = image.shape[0]\n",
    "    yImgShape = image.shape[0]\n",
    "    output = []\n",
    "    if padding != 0:\n",
    "        imagePadded = np.zeros((image.shape[0] + padding*2, image.shape[1] + padding*2))\n",
    "        imagePadded[int(padding):int(-1 * padding), int(padding):int(-1 * padding)] = image\n",
    "    else:\n",
    "        imagePadded = image\n",
    "    for y in range(0, imagePadded.shape[0], strides):\n",
    "        if y > imagePadded.shape[1] - yKernShape:\n",
    "            break\n",
    "        temp = []\n",
    "        for x in range(0, imagePadded.shape[1], strides):\n",
    "            if x > imagePadded.shape[0] - xKernShape:\n",
    "                break\n",
    "            temp.append(np.max(imagePadded[y: y + yKernShape, x: x + xKernShape]))\n",
    "        output.append(temp)\n",
    "    return output"
   ]
  },
  {
   "cell_type": "code",
   "execution_count": 3,
   "id": "interracial-pantyhose",
   "metadata": {},
   "outputs": [],
   "source": [
    "image = np.array([[2, 1, 3, 3], [1, 6, 2, 5], [1, 4, 5, 2], [6, 6, 5, 3]])\n",
    "kernel1 = np.array([[0, 1, 2], [1, 0, 1], [2, 1, 0]])\n",
    "kernel2 = np.array([[1, 0, 1], [0, 1, 0], [1, 0, 1]])\n",
    "kernel3 = np.array([[1, 2, 0], [2, 0, 2], [0, 2, 1]])"
   ]
  },
  {
   "cell_type": "markdown",
   "id": "noticed-delhi",
   "metadata": {},
   "source": [
    "- first kernel"
   ]
  },
  {
   "cell_type": "code",
   "execution_count": 4,
   "id": "guided-drive",
   "metadata": {},
   "outputs": [
    {
     "data": {
      "text/plain": [
       "[[2.0, 13.0, 18.0, 12.0],\n",
       " [11.0, 16.0, 33.0, 17.0],\n",
       " [23.0, 34.0, 35.0, 23.0],\n",
       " [15.0, 25.0, 18.0, 7.0]]"
      ]
     },
     "execution_count": 4,
     "metadata": {},
     "output_type": "execute_result"
    }
   ],
   "source": [
    "output = convolve2D(image, kernel1, padding = 1)\n",
    "output"
   ]
  },
  {
   "cell_type": "code",
   "execution_count": 5,
   "id": "powerful-theory",
   "metadata": {},
   "outputs": [
    {
     "data": {
      "text/plain": [
       "[[16.0, 33.0], [34.0, 35.0]]"
      ]
     },
     "execution_count": 5,
     "metadata": {},
     "output_type": "execute_result"
    }
   ],
   "source": [
    "output = MAXPOOL2D(output, 2, padding = 0, strides = 2)\n",
    "output"
   ]
  },
  {
   "cell_type": "markdown",
   "id": "changed-ireland",
   "metadata": {},
   "source": [
    "- second kernel"
   ]
  },
  {
   "cell_type": "code",
   "execution_count": 6,
   "id": "traditional-prompt",
   "metadata": {},
   "outputs": [
    {
     "data": {
      "text/plain": [
       "[[8.0, 4.0, 14.0, 5.0],\n",
       " [6.0, 17.0, 12.0, 13.0],\n",
       " [13.0, 18.0, 25.0, 9.0],\n",
       " [10.0, 12.0, 11.0, 8.0]]"
      ]
     },
     "execution_count": 6,
     "metadata": {},
     "output_type": "execute_result"
    }
   ],
   "source": [
    "output = convolve2D(image, kernel2, padding = 1)\n",
    "output"
   ]
  },
  {
   "cell_type": "code",
   "execution_count": 7,
   "id": "furnished-saudi",
   "metadata": {},
   "outputs": [
    {
     "data": {
      "text/plain": [
       "[[17.0, 14.0], [18.0, 25.0]]"
      ]
     },
     "execution_count": 7,
     "metadata": {},
     "output_type": "execute_result"
    }
   ],
   "source": [
    "output = MAXPOOL2D(output, 2, padding = 0, strides = 2)\n",
    "output"
   ]
  },
  {
   "cell_type": "markdown",
   "id": "innovative-serum",
   "metadata": {},
   "source": [
    "- third kernel"
   ]
  },
  {
   "cell_type": "code",
   "execution_count": 10,
   "id": "authentic-vermont",
   "metadata": {},
   "outputs": [
    {
     "data": {
      "text/plain": [
       "[[10.0, 24.0, 17.0, 16.0],\n",
       " [22.0, 23.0, 41.0, 17.0],\n",
       " [28.0, 42.0, 35.0, 28.0],\n",
       " [14.0, 31.0, 32.0, 19.0]]"
      ]
     },
     "execution_count": 10,
     "metadata": {},
     "output_type": "execute_result"
    }
   ],
   "source": [
    "output = convolve2D(image, kernel3, padding = 1)\n",
    "output"
   ]
  },
  {
   "cell_type": "code",
   "execution_count": 11,
   "id": "hindu-kinase",
   "metadata": {},
   "outputs": [
    {
     "data": {
      "text/plain": [
       "[[24.0, 41.0], [42.0, 35.0]]"
      ]
     },
     "execution_count": 11,
     "metadata": {},
     "output_type": "execute_result"
    }
   ],
   "source": [
    "output = MAXPOOL2D(output, 2, padding = 0, strides = 2)\n",
    "output"
   ]
  },
  {
   "cell_type": "code",
   "execution_count": null,
   "id": "banned-january",
   "metadata": {},
   "outputs": [],
   "source": []
  }
 ],
 "metadata": {
  "kernelspec": {
   "display_name": "MyPython",
   "language": "python",
   "name": "mypython"
  },
  "language_info": {
   "codemirror_mode": {
    "name": "ipython",
    "version": 3
   },
   "file_extension": ".py",
   "mimetype": "text/x-python",
   "name": "python",
   "nbconvert_exporter": "python",
   "pygments_lexer": "ipython3",
   "version": "3.9.1"
  }
 },
 "nbformat": 4,
 "nbformat_minor": 5
}
