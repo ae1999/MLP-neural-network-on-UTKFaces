{
 "cells": [
  {
   "cell_type": "code",
   "execution_count": 11,
   "id": "hazardous-innocent",
   "metadata": {},
   "outputs": [],
   "source": [
    "import sys\n",
    "import numpy as np"
   ]
  },
  {
   "cell_type": "code",
   "execution_count": 12,
   "id": "artificial-economics",
   "metadata": {},
   "outputs": [],
   "source": [
    "def convolution2d(image, kernel, bias = 0):\n",
    "    m, n = kernel.shape\n",
    "    if (m == n):\n",
    "        y, x = image.shape\n",
    "        y = y - m + 1\n",
    "        x = x - m + 1\n",
    "        new_image = np.zeros((y,x))\n",
    "        for i in range(y):\n",
    "            for j in range(x):\n",
    "                new_image[i][j] = np.sum(image[i:i+m, j:j+m]*kernel) + bias\n",
    "    return new_image"
   ]
  },
  {
   "cell_type": "code",
   "execution_count": 13,
   "id": "wooden-routine",
   "metadata": {},
   "outputs": [],
   "source": [
    "image = np.array([[2, 1, 3, 3], [1, 6, 2, 5], [1, 4, 5, 2], [6, 6, 5, 3]])\n",
    "kernel = np.array([[1, 3], [4, 6]])"
   ]
  },
  {
   "cell_type": "code",
   "execution_count": 14,
   "id": "distant-september",
   "metadata": {},
   "outputs": [
    {
     "data": {
      "text/plain": [
       "array([[45., 46., 50.],\n",
       "       [47., 58., 49.],\n",
       "       [73., 73., 49.]])"
      ]
     },
     "execution_count": 14,
     "metadata": {},
     "output_type": "execute_result"
    }
   ],
   "source": [
    "convolution2d(image, kernel)"
   ]
  },
  {
   "cell_type": "code",
   "execution_count": 30,
   "id": "universal-toddler",
   "metadata": {},
   "outputs": [
    {
     "name": "stdout",
     "output_type": "stream",
     "text": [
      "[[1 3]\n",
      " [4 6]]\n",
      "[[2 1]\n",
      " [1 6]]\n",
      "[[1 3]\n",
      " [4 6]]\n",
      "[[1 6]\n",
      " [1 4]]\n",
      "[[1 3]\n",
      " [4 6]]\n",
      "[[1 4]\n",
      " [6 6]]\n",
      "[[1 3]\n",
      " [4 6]]\n",
      "[[1 3]\n",
      " [6 2]]\n",
      "[[1 3]\n",
      " [4 6]]\n",
      "[[6 2]\n",
      " [4 5]]\n",
      "[[1 3]\n",
      " [4 6]]\n",
      "[[4 5]\n",
      " [6 5]]\n",
      "[[1 3]\n",
      " [4 6]]\n",
      "[[3 3]\n",
      " [2 5]]\n",
      "[[1 3]\n",
      " [4 6]]\n",
      "[[2 5]\n",
      " [5 2]]\n",
      "[[1 3]\n",
      " [4 6]]\n",
      "[[5 2]\n",
      " [5 3]]\n"
     ]
    }
   ],
   "source": [
    "def convolve2D(image, kernel, padding=0, strides=1):\n",
    "    # Cross Correlation\n",
    "#     kernel = np.flipud(np.fliplr(kernel))\n",
    "\n",
    "    # Gather Shapes of Kernel + Image + Padding\n",
    "    xKernShape = kernel.shape[0]\n",
    "    yKernShape = kernel.shape[1]\n",
    "    xImgShape = image.shape[0]\n",
    "    yImgShape = image.shape[0]\n",
    "\n",
    "    # Shape of Output Convolution\n",
    "    xOutput = int(((xImgShape - xKernShape + 2 * padding) / strides) + 1)\n",
    "    yOutput = int(((yImgShape - yKernShape + 2 * padding) / strides) + 1)\n",
    "    output = np.zeros((xOutput, yOutput))\n",
    "\n",
    "    # Apply Equal Padding to All Sides\n",
    "    if padding != 0:\n",
    "        imagePadded = np.zeros((image.shape[0] + padding*2, image.shape[1] + padding*2))\n",
    "        imagePadded[int(padding):int(-1 * padding), int(padding):int(-1 * padding)] = image\n",
    "    else:\n",
    "        imagePadded = image\n",
    "\n",
    "    # Iterate through image\n",
    "    for y in range(image.shape[1]):\n",
    "        # Exit Convolution\n",
    "        if y > image.shape[1] - yKernShape:\n",
    "            break\n",
    "        # Only Convolve if y has gone down by the specified Strides\n",
    "        if y % strides == 0:\n",
    "            for x in range(image.shape[0]):\n",
    "                # Go to next row once kernel is out of bounds\n",
    "                if x > image.shape[0] - xKernShape:\n",
    "                    break\n",
    "                try:\n",
    "                    # Only Convolve if x has moved by the specified Strides\n",
    "                    if x % strides == 0:\n",
    "                        output[x, y] = (kernel * imagePadded[x: x + xKernShape, y: y + yKernShape]).sum()\n",
    "                except:\n",
    "                    break\n",
    "\n",
    "    return output\n",
    "\n",
    "\n",
    "if __name__ == '__main__':\n",
    "    # Grayscale Image\n",
    "    image = np.array([[2, 1, 3, 3], [1, 6, 2, 5], [1, 4, 5, 2], [6, 6, 5, 3]])\n",
    "\n",
    "    # Edge Detection Kernel\n",
    "    kernel = np.array([[1, 3], [4, 6]])\n",
    "\n",
    "    # Convolve and Save Output\n",
    "    output = convolve2D(image, kernel)\n",
    "#     cv2.imwrite('2DConvolved.jpg', output)"
   ]
  },
  {
   "cell_type": "code",
   "execution_count": 31,
   "id": "related-institute",
   "metadata": {},
   "outputs": [
    {
     "data": {
      "text/plain": [
       "array([[45., 46., 50.],\n",
       "       [47., 58., 49.],\n",
       "       [73., 73., 49.]])"
      ]
     },
     "execution_count": 31,
     "metadata": {},
     "output_type": "execute_result"
    }
   ],
   "source": [
    "output"
   ]
  },
  {
   "cell_type": "code",
   "execution_count": 24,
   "id": "opposed-rates",
   "metadata": {},
   "outputs": [
    {
     "name": "stdout",
     "output_type": "stream",
     "text": [
      "Collecting opencv-python\n",
      "  Downloading opencv_python-4.5.1.48-cp39-cp39-macosx_10_13_x86_64.whl (40.3 MB)\n",
      "\u001b[K     |████████████████████████████████| 40.3 MB 4.1 MB/s eta 0:00:01     |█████████████▏                  | 16.6 MB 3.8 MB/s eta 0:00:07\n",
      "\u001b[?25hRequirement already satisfied: numpy>=1.19.3 in /Users/ali/Desktop/test/lib/python3.9/site-packages (from opencv-python) (1.20.1)\n",
      "Installing collected packages: opencv-python\n",
      "Successfully installed opencv-python-4.5.1.48\n",
      "Note: you may need to restart the kernel to use updated packages.\n"
     ]
    }
   ],
   "source": [
    "pip install opencv-python"
   ]
  },
  {
   "cell_type": "code",
   "execution_count": null,
   "id": "greater-designation",
   "metadata": {},
   "outputs": [],
   "source": []
  }
 ],
 "metadata": {
  "kernelspec": {
   "display_name": "MyPython",
   "language": "python",
   "name": "mypython"
  },
  "language_info": {
   "codemirror_mode": {
    "name": "ipython",
    "version": 3
   },
   "file_extension": ".py",
   "mimetype": "text/x-python",
   "name": "python",
   "nbconvert_exporter": "python",
   "pygments_lexer": "ipython3",
   "version": "3.9.1"
  }
 },
 "nbformat": 4,
 "nbformat_minor": 5
}
